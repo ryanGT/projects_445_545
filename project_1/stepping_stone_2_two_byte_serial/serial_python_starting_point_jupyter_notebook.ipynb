{
 "cells": [
  {
   "cell_type": "code",
   "execution_count": 3,
   "metadata": {},
   "outputs": [],
   "source": [
    "import serial, time"
   ]
  },
  {
   "cell_type": "markdown",
   "metadata": {},
   "source": [
    "**Note:** if importing `serial` causes an error, you need to install the `pyserial` module using `pip`:\n",
    "\n",
    "`pip install pyserial`\n",
    "\n",
    "or \n",
    "\n",
    "`pip3 install pyserial`\n",
    "\n",
    "Windows users should use the Anaconda prompt.  Mac users should be able to use the terminal."
   ]
  },
  {
   "cell_type": "code",
   "execution_count": 4,
   "metadata": {},
   "outputs": [
    {
     "data": {
      "text/plain": [
       "'3.5'"
      ]
     },
     "execution_count": 4,
     "metadata": {},
     "output_type": "execute_result"
    }
   ],
   "source": [
    "serial.VERSION"
   ]
  },
  {
   "cell_type": "markdown",
   "metadata": {},
   "source": [
    "**Note:** if you serial version is 2.x, we might need to make changes to the code below"
   ]
  },
  {
   "cell_type": "code",
   "execution_count": 5,
   "metadata": {},
   "outputs": [],
   "source": [
    "baudrate = 115200"
   ]
  },
  {
   "cell_type": "code",
   "execution_count": 8,
   "metadata": {},
   "outputs": [],
   "source": [
    "portname = '/dev/cu.usbmodem11301'#mac\n",
    "#portname = 'COM3'#windows"
   ]
  },
  {
   "cell_type": "code",
   "execution_count": 13,
   "metadata": {},
   "outputs": [],
   "source": [
    "ser = serial.Serial(portname, baudrate, timeout=5)"
   ]
  },
  {
   "cell_type": "code",
   "execution_count": 15,
   "metadata": {},
   "outputs": [
    {
     "data": {
      "text/plain": [
       "30"
      ]
     },
     "execution_count": 15,
     "metadata": {},
     "output_type": "execute_result"
    }
   ],
   "source": [
    "ser.in_waiting"
   ]
  },
  {
   "cell_type": "code",
   "execution_count": 18,
   "metadata": {},
   "outputs": [],
   "source": [
    "def read_all(ser):\n",
    "    out = []\n",
    "    while ser.in_waiting > 0:\n",
    "        data1b = ser.read(1)\n",
    "        data1 = data1b.decode('utf-8')\n",
    "        out.append(data1)\n",
    "        \n",
    "    outstr = ''.join(out)\n",
    "    return outstr"
   ]
  },
  {
   "cell_type": "code",
   "execution_count": 19,
   "metadata": {},
   "outputs": [],
   "source": [
    "def read_one_line(ser):\n",
    "    out = []\n",
    "    while ser.in_waiting > 0:\n",
    "        data1b = ser.read(1)\n",
    "        data1 = data1b.decode('utf-8')\n",
    "        if data1 in ['\\n','\\r']:\n",
    "            break\n",
    "        out.append(data1)\n",
    "        \n",
    "    outstr = ''.join(out)\n",
    "    return outstr"
   ]
  },
  {
   "cell_type": "code",
   "execution_count": 20,
   "metadata": {},
   "outputs": [
    {
     "data": {
      "text/plain": [
       "'EGR 445 Serial Starting Point\\n'"
      ]
     },
     "execution_count": 20,
     "metadata": {},
     "output_type": "execute_result"
    }
   ],
   "source": [
    "read_all(ser)"
   ]
  },
  {
   "cell_type": "code",
   "execution_count": 21,
   "metadata": {},
   "outputs": [],
   "source": [
    "def one_byte_int_to_serial_byte(int_byte):\n",
    "    out_byte = int_byte.to_bytes(1,byteorder='big')\n",
    "    return out_byte"
   ]
  },
  {
   "cell_type": "code",
   "execution_count": 22,
   "metadata": {},
   "outputs": [],
   "source": [
    "def WriteByte(ser, bytein):\n",
    "    out_byte = one_byte_int_to_serial_byte(bytein)\n",
    "    ser.write(out_byte)"
   ]
  },
  {
   "cell_type": "markdown",
   "metadata": {},
   "source": [
    "## Example"
   ]
  },
  {
   "cell_type": "code",
   "execution_count": 25,
   "metadata": {},
   "outputs": [
    {
     "name": "stdout",
     "output_type": "stream",
     "text": [
      "next_line: 7,156\n",
      "extra: \n"
     ]
    }
   ],
   "source": [
    "byte1 = 7\n",
    "WriteByte(ser,byte1)#<--\n",
    "time.sleep(0.1)\n",
    "byte2 = 156\n",
    "WriteByte(ser,byte2)#<--\n",
    "time.sleep(0.1)\n",
    "next_line = read_one_line(ser)\n",
    "extra = read_all(ser)\n",
    "print('next_line: %s' % next_line)\n",
    "print('extra: %s' % extra)"
   ]
  },
  {
   "cell_type": "markdown",
   "metadata": {},
   "source": [
    "# Break an integer into two bytes"
   ]
  },
  {
   "cell_type": "code",
   "execution_count": 18,
   "metadata": {},
   "outputs": [],
   "source": [
    "myint = 1000"
   ]
  },
  {
   "cell_type": "markdown",
   "metadata": {},
   "source": [
    "- How do we break this into two bytes?\n",
    "- How do we find the most significant byte?\n",
    "- How do we find the least significant byte?"
   ]
  },
  {
   "cell_type": "code",
   "execution_count": 12,
   "metadata": {},
   "outputs": [],
   "source": [
    "ser.close()"
   ]
  },
  {
   "cell_type": "code",
   "execution_count": null,
   "metadata": {},
   "outputs": [],
   "source": []
  }
 ],
 "metadata": {
  "kernelspec": {
   "display_name": "Python 3 (ipykernel)",
   "language": "python",
   "name": "python3"
  },
  "language_info": {
   "codemirror_mode": {
    "name": "ipython",
    "version": 3
   },
   "file_extension": ".py",
   "mimetype": "text/x-python",
   "name": "python",
   "nbconvert_exporter": "python",
   "pygments_lexer": "ipython3",
   "version": "3.13.3"
  }
 },
 "nbformat": 4,
 "nbformat_minor": 4
}
